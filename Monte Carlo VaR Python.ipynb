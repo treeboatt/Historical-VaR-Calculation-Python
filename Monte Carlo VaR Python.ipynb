{
 "cells": [
  {
   "cell_type": "markdown",
   "id": "217d6142",
   "metadata": {},
   "source": [
    "# --- MonteCarlo Method ---\n"
   ]
  },
  {
   "cell_type": "markdown",
   "id": "ef6ca9db",
   "metadata": {},
   "source": [
    "### We import the libraries"
   ]
  },
  {
   "cell_type": "code",
   "execution_count": 5,
   "id": "0be95f61",
   "metadata": {},
   "outputs": [],
   "source": [
    "import numpy as np\n",
    "import matplotlib.pyplot as plt\n",
    "import pandas as pd\n",
    "import yfinance as yf\n",
    "import datetime as dt\n",
    "from scipy.stats import norm"
   ]
  },
  {
   "cell_type": "markdown",
   "id": "81fc863a",
   "metadata": {},
   "source": [
    "### Starting and ending date"
   ]
  },
  {
   "cell_type": "code",
   "execution_count": 6,
   "id": "d48df86a",
   "metadata": {},
   "outputs": [],
   "source": [
    "years = 15\n",
    "\n",
    "endDate = dt.datetime.now()\n",
    "startDate = endDate - dt.timedelta(days = years * 365)"
   ]
  },
  {
   "cell_type": "code",
   "execution_count": 7,
   "id": "a2a83e54",
   "metadata": {},
   "outputs": [],
   "source": [
    "portfolio_value = 1000000\n",
    "assets = ['BND', 'QQQ', 'GLD','SPY','VTI']"
   ]
  },
  {
   "cell_type": "markdown",
   "id": "8f5cbbbb",
   "metadata": {},
   "source": [
    "### We get the adjusted close for the assets"
   ]
  },
  {
   "cell_type": "code",
   "execution_count": 8,
   "id": "2307eb7b",
   "metadata": {},
   "outputs": [
    {
     "name": "stderr",
     "output_type": "stream",
     "text": [
      "[*********************100%***********************]  5 of 5 completed"
     ]
    },
    {
     "name": "stdout",
     "output_type": "stream",
     "text": [
      "Ticker            BND         GLD         QQQ         SPY         VTI\n",
      "Date                                                                 \n",
      "2010-11-04  54.034679  136.029999   47.042805   93.314140   48.054493\n",
      "2010-11-05  53.806705  136.380005   47.042805   93.665268   48.269226\n",
      "2010-11-08  53.819710  137.779999   47.104160   93.489723   48.207867\n",
      "2010-11-09  53.546192  135.589996   46.849995   92.818047   47.832081\n",
      "2010-11-10  53.526649  137.240005   47.086647   93.192024   48.039120\n",
      "...               ...         ...         ...         ...         ...\n",
      "2025-10-24  75.019997  377.519989  617.099976  677.250000  333.709991\n",
      "2025-10-27  75.059998  367.010010  628.090027  685.239990  337.429993\n",
      "2025-10-28  75.099998  364.380005  632.919983  687.059998  337.950012\n",
      "2025-10-29  74.730003  363.000000  635.770020  687.390015  337.709991\n",
      "2025-10-30  74.599998  370.130005  626.049988  679.830017  334.079987\n",
      "\n",
      "[3770 rows x 5 columns]\n"
     ]
    },
    {
     "name": "stderr",
     "output_type": "stream",
     "text": [
      "\n"
     ]
    }
   ],
   "source": [
    "adj_close_df = pd.DataFrame()\n",
    "data = yf.download(assets, start = startDate, end = endDate, auto_adjust = False)\n",
    "adj_close_df = data['Adj Close'] \n",
    "print(adj_close_df)"
   ]
  },
  {
   "cell_type": "markdown",
   "id": "bb9f01ea",
   "metadata": {},
   "source": [
    "### Calculate the daily log returns"
   ]
  },
  {
   "cell_type": "code",
   "execution_count": 12,
   "id": "599a25ac",
   "metadata": {},
   "outputs": [
    {
     "name": "stdout",
     "output_type": "stream",
     "text": [
      "Ticker           BND       GLD       QQQ       SPY       VTI\n",
      "Date                                                        \n",
      "2010-11-05 -0.004228  0.002570  0.000000  0.003756  0.004459\n",
      "2010-11-08  0.000242  0.010213  0.001303 -0.001876 -0.001272\n",
      "2010-11-09 -0.005095 -0.016023 -0.005410 -0.007210 -0.007826\n",
      "2010-11-10 -0.000365  0.012096  0.005039  0.004021  0.004319\n",
      "2010-11-11  0.000365  0.003056 -0.006349 -0.003774 -0.002717\n",
      "...              ...       ...       ...       ...       ...\n",
      "2025-10-24  0.001334 -0.003358  0.010622  0.008139  0.008124\n",
      "2025-10-27  0.000533 -0.028234  0.017652  0.011729  0.011086\n",
      "2025-10-28  0.000533 -0.007192  0.007660  0.002652  0.001540\n",
      "2025-10-29 -0.004939 -0.003794  0.004493  0.000480 -0.000710\n",
      "2025-10-30 -0.001741  0.019451 -0.015407 -0.011059 -0.010807\n",
      "\n",
      "[3769 rows x 5 columns]\n"
     ]
    }
   ],
   "source": [
    "log_returns = np.log(adj_close_df/adj_close_df.shift(1))\n",
    "log_returns = log_returns.dropna()\n",
    "print(log_returns)"
   ]
  },
  {
   "cell_type": "markdown",
   "id": "d9cc693a",
   "metadata": {},
   "source": [
    "### Calculate the portfolio expected returns"
   ]
  },
  {
   "cell_type": "code",
   "execution_count": 22,
   "id": "2725059e",
   "metadata": {},
   "outputs": [],
   "source": [
    "def expected_returns(weights, log_returns):\n",
    "    return np.sum(log_returns.mean()*weights)"
   ]
  },
  {
   "cell_type": "markdown",
   "id": "d3f21a7a",
   "metadata": {},
   "source": [
    "### Calculate the portfolio standard deviation"
   ]
  },
  {
   "cell_type": "code",
   "execution_count": 23,
   "id": "bdf89b80",
   "metadata": {},
   "outputs": [],
   "source": [
    "def standard_deviation(weights, cov_matrix):\n",
    "    return np.sqrt(weights.T @ cov_matrix @ weights)"
   ]
  },
  {
   "cell_type": "markdown",
   "id": "cf3e6619",
   "metadata": {},
   "source": [
    "### Create the covariance matrix"
   ]
  },
  {
   "cell_type": "code",
   "execution_count": 24,
   "id": "3b724e73",
   "metadata": {},
   "outputs": [
    {
     "name": "stdout",
     "output_type": "stream",
     "text": [
      "Ticker           BND       GLD       QQQ           SPY       VTI\n",
      "Ticker                                                          \n",
      "BND     9.618273e-06  0.000009  0.000002  9.092011e-07  0.000001\n",
      "GLD     9.184736e-06  0.000099  0.000006  4.425662e-06  0.000005\n",
      "QQQ     1.714335e-06  0.000006  0.000171  1.318559e-04  0.000134\n",
      "SPY     9.092011e-07  0.000004  0.000132  1.174653e-04  0.000120\n",
      "VTI     1.126737e-06  0.000005  0.000134  1.196185e-04  0.000123\n"
     ]
    }
   ],
   "source": [
    "cov_matrix = log_returns.cov()\n",
    "print(cov_matrix)"
   ]
  },
  {
   "cell_type": "markdown",
   "id": "70ec53e7",
   "metadata": {},
   "source": [
    "### Create an equally weighted portfolio"
   ]
  },
  {
   "cell_type": "code",
   "execution_count": 26,
   "id": "8f4cfb99",
   "metadata": {},
   "outputs": [
    {
     "name": "stdout",
     "output_type": "stream",
     "text": [
      "[0.2 0.2 0.2 0.2 0.2]\n"
     ]
    }
   ],
   "source": [
    "portfolio_value = 1000000\n",
    "\n",
    "weights = np.array([1/len(assets)]*len(assets))\n",
    "print(weights)\n",
    "portfolio_expected_returns = expected_returns(weights, log_returns)\n",
    "std_dev = standard_deviation(weights, cov_matrix)\n"
   ]
  },
  {
   "cell_type": "markdown",
   "id": "4306a4e5",
   "metadata": {},
   "source": [
    "### Create a Z-function that follows a normal law N (0,1)"
   ]
  },
  {
   "cell_type": "code",
   "execution_count": 30,
   "id": "5f5fd841",
   "metadata": {},
   "outputs": [],
   "source": [
    "def z_function():\n",
    "    return np.random.normal(0,1)"
   ]
  },
  {
   "cell_type": "markdown",
   "id": "82ac1c14",
   "metadata": {},
   "source": [
    "### Create a GainLossScenario function"
   ]
  },
  {
   "cell_type": "code",
   "execution_count": 33,
   "id": "5c9327e3",
   "metadata": {},
   "outputs": [],
   "source": [
    "def GainLossScenario(portfolio_value, z_score, days, std_dev):\n",
    "    return portfolio_value*days*portfolio_expected_returns + portfolio_value*z_score*np.sqrt(days)*std_dev"
   ]
  },
  {
   "cell_type": "markdown",
   "id": "f36c5596",
   "metadata": {},
   "source": [
    "### 1000 Monte Carlo Simulations"
   ]
  },
  {
   "cell_type": "code",
   "execution_count": 35,
   "id": "0870b250",
   "metadata": {},
   "outputs": [],
   "source": [
    "n = 1000\n",
    "scenarioArray = []\n",
    "days = 5\n",
    "for i in range(n):\n",
    "    z_score = z_function()\n",
    "    scenarioArray.append(GainLossScenario(portfolio_value, z_score, days, std_dev))"
   ]
  },
  {
   "cell_type": "markdown",
   "id": "042a4dc9",
   "metadata": {},
   "source": [
    "### VaR and plot"
   ]
  },
  {
   "cell_type": "code",
   "execution_count": 38,
   "id": "471bd0d5",
   "metadata": {},
   "outputs": [
    {
     "name": "stdout",
     "output_type": "stream",
     "text": [
      "24260.695102250353\n"
     ]
    },
    {
     "name": "stderr",
     "output_type": "stream",
     "text": [
      "C:\\Users\\maxim\\AppData\\Local\\Temp\\ipykernel_21512\\1321095627.py:10: UserWarning: No artists with labels found to put in legend.  Note that artists whose label start with an underscore are ignored when legend() is called with no argument.\n",
      "  plt.legend()\n"
     ]
    },
    {
     "data": {
      "image/png": "[encoded data removed]",
      "text/plain": [
       "<Figure size 640x480 with 1 Axes>"
      ]
     },
     "metadata": {},
     "output_type": "display_data"
    }
   ],
   "source": [
    "confidence_level = 0.95\n",
    "VaR = -np.percentile(scenarioArray, 100*(1-confidence_level))\n",
    "print(VaR)\n",
    "\n",
    "plt.hist(scenarioArray, bins = 50, density=True)\n",
    "plt.xlabel(\"Value of portfolio\")\n",
    "plt.ylabel(\"Frequency\")\n",
    "plt.title(f\"Distribution of portfolio on {days} days ($)\")\n",
    "plt.axvline(-VaR, color = 'r', linestyle = 'dashed')\n",
    "plt.legend()\n",
    "plt.show()\n"
   ]
  }
 ],
 "metadata": {
  "kernelspec": {
   "display_name": "Python 3",
   "language": "python",
   "name": "python3"
  },
  "language_info": {
   "codemirror_mode": {
    "name": "ipython",
    "version": 3
   },
   "file_extension": ".py",
   "mimetype": "text/x-python",
   "name": "python",
   "nbconvert_exporter": "python",
   "pygments_lexer": "ipython3",
   "version": "3.13.1"
  }
 },
 "nbformat": 4,
 "nbformat_minor": 5
}
