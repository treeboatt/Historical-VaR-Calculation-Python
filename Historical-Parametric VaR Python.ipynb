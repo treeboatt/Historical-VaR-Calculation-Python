{
 "cells": [
  {
   "cell_type": "markdown",
   "id": "a151335d",
   "metadata": {},
   "source": [
    "# Calculation of Value At Risk with Historical Method"
   ]
  },
  {
   "cell_type": "markdown",
   "id": "f08f8a62",
   "metadata": {},
   "source": [
    "### We start by importing the necessary libraries."
   ]
  },
  {
   "cell_type": "code",
   "execution_count": 98,
   "id": "1d877960",
   "metadata": {},
   "outputs": [],
   "source": [
    "import numpy as np\n",
    "import pandas as pd\n",
    "import datetime as dt\n",
    "import yfinance as yf #yahoo finance\n",
    "import matplotlib.pyplot as plt\n",
    "from scipy.stats import norm"
   ]
  },
  {
   "cell_type": "markdown",
   "id": "28b28643",
   "metadata": {},
   "source": [
    "### We then set time for a certain number of days"
   ]
  },
  {
   "cell_type": "code",
   "execution_count": 99,
   "id": "caa11287",
   "metadata": {},
   "outputs": [],
   "source": [
    "years = 15\n",
    "endDate = dt.datetime.now()\n",
    "startDate = endDate - dt.timedelta(days = years*365)"
   ]
  },
  {
   "cell_type": "markdown",
   "id": "ed7aa370",
   "metadata": {},
   "source": [
    "### We create a list of assets"
   ]
  },
  {
   "cell_type": "code",
   "execution_count": 100,
   "id": "a6708144",
   "metadata": {},
   "outputs": [],
   "source": [
    "assets = ['QQQ','GLD','SPY','VTI','BND'] "
   ]
  },
  {
   "cell_type": "markdown",
   "id": "24fd6c77",
   "metadata": {},
   "source": [
    "### Daily adjusted prices:"
   ]
  },
  {
   "cell_type": "code",
   "execution_count": 101,
   "id": "47621b2d",
   "metadata": {},
   "outputs": [
    {
     "name": "stderr",
     "output_type": "stream",
     "text": [
      "[*********************100%***********************]  5 of 5 completed"
     ]
    },
    {
     "name": "stdout",
     "output_type": "stream",
     "text": [
      "Ticker            BND         GLD         QQQ         SPY         VTI\n",
      "Date                                                                 \n",
      "2010-11-04  54.034721  136.029999   47.042816   93.314156   48.054508\n",
      "2010-11-05  53.806732  136.380005   47.042816   93.665237   48.269218\n",
      "2010-11-08  53.819729  137.779999   47.104156   93.489746   48.207867\n",
      "2010-11-09  53.546181  135.589996   46.849972   92.818077   47.832077\n",
      "2010-11-10  53.526619  137.240005   47.086636   93.192062   48.039154\n",
      "...               ...         ...         ...         ...         ...\n",
      "2025-10-24  75.019997  377.519989  617.099976  677.250000  333.709991\n",
      "2025-10-27  75.059998  367.010010  628.090027  685.239990  337.429993\n",
      "2025-10-28  75.099998  364.380005  632.919983  687.059998  337.950012\n",
      "2025-10-29  74.730003  363.000000  635.770020  687.390015  337.709991\n",
      "2025-10-30  74.599998  370.130005  626.049988  679.830017  334.079987\n",
      "\n",
      "[3770 rows x 5 columns]\n"
     ]
    },
    {
     "name": "stderr",
     "output_type": "stream",
     "text": [
      "\n"
     ]
    }
   ],
   "source": [
    "adj_close_df = pd.DataFrame()\n",
    "\n",
    "data = yf.download(assets, start = startDate, end  = endDate, auto_adjust=False)\n",
    "adj_close_df = data['Adj Close']\n",
    "print(adj_close_df)"
   ]
  },
  {
   "cell_type": "markdown",
   "id": "d1898c16",
   "metadata": {},
   "source": [
    "### Log returns (rendements)"
   ]
  },
  {
   "cell_type": "code",
   "execution_count": 102,
   "id": "0697721a",
   "metadata": {},
   "outputs": [
    {
     "name": "stdout",
     "output_type": "stream",
     "text": [
      "Ticker           BND       GLD       QQQ       SPY       VTI\n",
      "Date                                                        \n",
      "2010-11-04       NaN       NaN       NaN       NaN       NaN\n",
      "2010-11-05 -0.004228  0.002570  0.000000  0.003755  0.004458\n",
      "2010-11-08  0.000242  0.010213  0.001303 -0.001875 -0.001272\n",
      "2010-11-09 -0.005096 -0.016023 -0.005411 -0.007210 -0.007826\n",
      "2010-11-10 -0.000365  0.012096  0.005039  0.004021  0.004320\n",
      "...              ...       ...       ...       ...       ...\n",
      "2025-10-24  0.001334 -0.003358  0.010622  0.008139  0.008124\n",
      "2025-10-27  0.000533 -0.028234  0.017652  0.011729  0.011086\n",
      "2025-10-28  0.000533 -0.007192  0.007660  0.002652  0.001540\n",
      "2025-10-29 -0.004939 -0.003794  0.004493  0.000480 -0.000710\n",
      "2025-10-30 -0.001741  0.019451 -0.015407 -0.011059 -0.010807\n",
      "\n",
      "[3770 rows x 5 columns]\n"
     ]
    }
   ],
   "source": [
    "log_returns = np.log(adj_close_df/adj_close_df.shift(1))\n",
    "log_returns.dropna()\n",
    "print(log_returns)"
   ]
  },
  {
   "cell_type": "markdown",
   "id": "e37eac31",
   "metadata": {},
   "source": [
    "### Create an equally distributed portfolio (many assets)"
   ]
  },
  {
   "cell_type": "code",
   "execution_count": 103,
   "id": "8bdda269",
   "metadata": {},
   "outputs": [
    {
     "name": "stdout",
     "output_type": "stream",
     "text": [
      "[0.2 0.2 0.2 0.2 0.2]\n"
     ]
    }
   ],
   "source": [
    "portfolio_value = 1000000\n",
    "weights = np.array([1/len(assets)]*len(assets))\n",
    "print(weights)"
   ]
  },
  {
   "cell_type": "markdown",
   "id": "7fd390f5",
   "metadata": {},
   "source": [
    "### Calculate the historical portfolio returns"
   ]
  },
  {
   "cell_type": "code",
   "execution_count": 104,
   "id": "6dc2a34f",
   "metadata": {},
   "outputs": [
    {
     "name": "stdout",
     "output_type": "stream",
     "text": [
      "Date\n",
      "2010-11-04    0.000000\n",
      "2010-11-05    0.001311\n",
      "2010-11-08    0.001722\n",
      "2010-11-09   -0.008313\n",
      "2010-11-10    0.005022\n",
      "                ...   \n",
      "2025-10-24    0.004972\n",
      "2025-10-27    0.002553\n",
      "2025-10-28    0.001039\n",
      "2025-10-29   -0.000894\n",
      "2025-10-30   -0.003912\n",
      "Length: 3770, dtype: float64\n"
     ]
    }
   ],
   "source": [
    "historical_returns = (weights*log_returns).sum(axis = 1)\n",
    "print(historical_returns)"
   ]
  },
  {
   "cell_type": "markdown",
   "id": "720fcd40",
   "metadata": {},
   "source": [
    "### Fin the x-days historical returns"
   ]
  },
  {
   "cell_type": "code",
   "execution_count": 105,
   "id": "7e1195ee",
   "metadata": {},
   "outputs": [
    {
     "name": "stdout",
     "output_type": "stream",
     "text": [
      "Date\n",
      "2010-11-10   -0.000258\n",
      "2010-11-11   -0.002142\n",
      "2010-11-12   -0.018422\n",
      "2010-11-15   -0.024346\n",
      "2010-11-16   -0.027237\n",
      "                ...   \n",
      "2025-10-24    0.006415\n",
      "2025-10-27   -0.005241\n",
      "2025-10-28    0.008923\n",
      "2025-10-29    0.012204\n",
      "2025-10-30    0.003757\n",
      "Length: 3766, dtype: float64\n"
     ]
    }
   ],
   "source": [
    "days = 5\n",
    "\n",
    "range_returns = historical_returns.rolling(window = days).sum()\n",
    "range_returns = range_returns.dropna()\n",
    "print(range_returns)"
   ]
  },
  {
   "cell_type": "markdown",
   "id": "1254efa5",
   "metadata": {},
   "source": [
    "# --- Historical Method ---"
   ]
  },
  {
   "cell_type": "markdown",
   "id": "873a2acc",
   "metadata": {},
   "source": [
    "### Find the VaR (historical)"
   ]
  },
  {
   "cell_type": "code",
   "execution_count": 106,
   "id": "6a57488f",
   "metadata": {},
   "outputs": [
    {
     "name": "stdout",
     "output_type": "stream",
     "text": [
      "23421.136773818856\n"
     ]
    }
   ],
   "source": [
    "confidence_level = 0.95\n",
    "VaR = -np.percentile(range_returns, (1-confidence_level)*100)*portfolio_value\n",
    "print(VaR)"
   ]
  },
  {
   "cell_type": "code",
   "execution_count": 107,
   "id": "1571197e",
   "metadata": {},
   "outputs": [
    {
     "name": "stderr",
     "output_type": "stream",
     "text": [
      "C:\\Users\\maxim\\AppData\\Local\\Temp\\ipykernel_16996\\4161824951.py:8: UserWarning: No artists with labels found to put in legend.  Note that artists whose label start with an underscore are ignored when legend() is called with no argument.\n",
      "  plt.legend()\n"
     ]
    },
    {
     "data": {
      "image/png": "[encoded data removed]",
      "text/plain": [
       "<Figure size 640x480 with 1 Axes>"
      ]
     },
     "metadata": {},
     "output_type": "display_data"
    }
   ],
   "source": [
    "range_return_dollar = range_returns*portfolio_value\n",
    "\n",
    "plt.hist(range_return_dollar.dropna(), bins = 50, density=True)\n",
    "plt.xlabel(\"Value of portfolio\")\n",
    "plt.ylabel(\"Frequency\")\n",
    "plt.title(f\"Distribution of portfolio on {days} days ($)\")\n",
    "plt.axvline(-VaR, color = 'r', linestyle = 'dashed')\n",
    "plt.legend()\n",
    "plt.show()\n"
   ]
  },
  {
   "cell_type": "markdown",
   "id": "70e3d7dc",
   "metadata": {},
   "source": [
    "# --- Parametric Method ---"
   ]
  },
  {
   "cell_type": "markdown",
   "id": "0c8f4b57",
   "metadata": {},
   "source": [
    "### Covariance Matrix"
   ]
  },
  {
   "cell_type": "code",
   "execution_count": 108,
   "id": "e09865c2",
   "metadata": {},
   "outputs": [
    {
     "name": "stdout",
     "output_type": "stream",
     "text": [
      "Ticker       BND       GLD       QQQ       SPY       VTI\n",
      "Ticker                                                  \n",
      "BND     0.002424  0.002315  0.000432  0.000229  0.000284\n",
      "GLD     0.002315  0.024870  0.001438  0.001115  0.001238\n",
      "QQQ     0.000432  0.001438  0.042987  0.033228  0.033835\n",
      "SPY     0.000229  0.001115  0.033228  0.029601  0.030144\n",
      "VTI     0.000284  0.001238  0.033835  0.030144  0.030939\n"
     ]
    }
   ],
   "source": [
    "cov_matrix = log_returns.cov() * 252 #there's 252 trading days in a year\n",
    "print(cov_matrix)"
   ]
  },
  {
   "cell_type": "markdown",
   "id": "e8e961ea",
   "metadata": {},
   "source": [
    "### Calculate Portfolio Standard Deviation"
   ]
  },
  {
   "cell_type": "code",
   "execution_count": 109,
   "id": "359d6c36",
   "metadata": {},
   "outputs": [
    {
     "name": "stdout",
     "output_type": "stream",
     "text": [
      "0.11650499588137568\n"
     ]
    }
   ],
   "source": [
    "std_dev = np.sqrt(weights.T @ cov_matrix @ weights)\n",
    "print(std_dev)"
   ]
  },
  {
   "cell_type": "markdown",
   "id": "32728864",
   "metadata": {},
   "source": [
    "### Calculate different Parametric VaR's"
   ]
  },
  {
   "cell_type": "code",
   "execution_count": 110,
   "id": "4023ccd9",
   "metadata": {},
   "outputs": [
    {
     "name": "stdout",
     "output_type": "stream",
     "text": [
      "For the confidence level: 0.9, we have a VaR = 21031.26357029925\n",
      "For the confidence level: 0.95, we have a VaR = 26993.334558706196\n",
      "For the confidence level: 0.99, we have a VaR = 38177.18819169553\n"
     ]
    }
   ],
   "source": [
    "confidence_levels_list = [0.9, 0.95, 0.99]\n",
    "VaRs = []\n",
    "for cl in confidence_levels_list:\n",
    "    VaR = std_dev * norm.ppf(cl)* portfolio_value * np.sqrt(days/252)\n",
    "    VaRs.append(VaR)\n",
    "    print(f\"For the confidence level: {cl}, we have a VaR = {VaR}\")"
   ]
  },
  {
   "cell_type": "code",
   "execution_count": 111,
   "id": "b4317723",
   "metadata": {},
   "outputs": [
    {
     "name": "stderr",
     "output_type": "stream",
     "text": [
      "C:\\Users\\maxim\\AppData\\Local\\Temp\\ipykernel_16996\\3858248642.py:11: UserWarning: No artists with labels found to put in legend.  Note that artists whose label start with an underscore are ignored when legend() is called with no argument.\n",
      "  plt.legend()\n"
     ]
    },
    {
     "data": {
      "image/png": "[encoded data removed]",
      "text/plain": [
       "<Figure size 640x480 with 1 Axes>"
      ]
     },
     "metadata": {},
     "output_type": "display_data"
    }
   ],
   "source": [
    "range_return_dollar = range_returns*portfolio_value\n",
    "\n",
    "plt.hist(range_return_dollar.dropna(), bins = 50, density=True)\n",
    "\n",
    "for cl, VaR in zip(confidence_levels_list, VaRs):\n",
    "    plt.axvline(-VaR, color = 'r', linestyle = 'dashed')\n",
    "    \n",
    "plt.xlabel(\"Value of portfolio\")\n",
    "plt.ylabel(\"Frequency\")\n",
    "plt.title(f\"Distribution of portfolio on {days} days ($)\")\n",
    "plt.legend()\n",
    "plt.show()\n"
   ]
  }
 ],
 "metadata": {
  "kernelspec": {
   "display_name": "Python 3",
   "language": "python",
   "name": "python3"
  },
  "language_info": {
   "codemirror_mode": {
    "name": "ipython",
    "version": 3
   },
   "file_extension": ".py",
   "mimetype": "text/x-python",
   "name": "python",
   "nbconvert_exporter": "python",
   "pygments_lexer": "ipython3",
   "version": "3.13.1"
  }
 },
 "nbformat": 4,
 "nbformat_minor": 5
}
